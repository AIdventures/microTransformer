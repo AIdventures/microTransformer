{
 "cells": [
  {
   "cell_type": "code",
   "execution_count": 1,
   "metadata": {},
   "outputs": [],
   "source": [
    "import torch\n",
    "from data import CharactersDataset\n",
    "from model import Transformer\n",
    "from config import TRANSFORMER_CONFIG"
   ]
  },
  {
   "cell_type": "code",
   "execution_count": 2,
   "metadata": {},
   "outputs": [],
   "source": [
    "batch_size=32\n",
    "test_dataset = CharactersDataset(\"test\")\n",
    "test_dataloader = torch.utils.data.DataLoader(\n",
    "    test_dataset, batch_size=batch_size, shuffle=False\n",
    ")"
   ]
  },
  {
   "cell_type": "code",
   "execution_count": 3,
   "metadata": {},
   "outputs": [
    {
     "name": "stdout",
     "output_type": "stream",
     "text": [
      "Using device: cuda\n"
     ]
    }
   ],
   "source": [
    "device = torch.device(\"cuda\" if torch.cuda.is_available() else \"cpu\")\n",
    "print(\"Using device:\", device)\n",
    "model_path = \"checkpoints/cosmic-plasma-3/latest_ckpt.pt\"\n",
    "checkpoint = torch.load(model_path, map_location=device)\n",
    "checkpoint_inverse_vocabulary = checkpoint[\"config\"][\"inverse_vocabulary\"]"
   ]
  },
  {
   "cell_type": "code",
   "execution_count": 5,
   "metadata": {},
   "outputs": [
    {
     "name": "stdout",
     "output_type": "stream",
     "text": [
      "Model loaded from checkpoints/cosmic-plasma-3/latest_ckpt.pt\n"
     ]
    }
   ],
   "source": [
    "\n",
    "# Load the model\n",
    "model = Transformer(TRANSFORMER_CONFIG)\n",
    "model.load_state_dict(checkpoint[\"model\"])\n",
    "model.to(device)\n",
    "print(\"Model loaded from\", model_path)"
   ]
  },
  {
   "cell_type": "code",
   "execution_count": 22,
   "metadata": {},
   "outputs": [],
   "source": [
    "model.eval()\n",
    "total, correct = 0, 0\n",
    "wrong_cases = []\n",
    "with torch.no_grad():\n",
    "    for batch_index, batch in enumerate(test_dataloader):\n",
    "        src = batch[\"src\"].to(device)\n",
    "        tgt = batch[\"tgt\"].to(device)\n",
    "        tgt_shifted = batch[\"tgt_shifted\"].to(device)\n",
    "        logits = model(src, tgt_shifted)\n",
    "        predictions = torch.argmax(logits, dim=-1)\n",
    "        # A sequence is correct if all the tokens are correct\n",
    "        # shape (batch_size, sequence_length)\n",
    "        correct += torch.sum(torch.all(torch.eq(predictions, tgt), dim=1)).item()\n",
    "        total += len(src)\n",
    "\n",
    "        # Find the wrong cases\n",
    "        wrongs = ~torch.all(torch.eq(predictions, tgt), dim=1)\n",
    "        wrong_indices = torch.where(wrongs)[0]\n",
    "        # wrong case will contain a list of dictionaries with the following\n",
    "        # keys: src, tgt, predictions\n",
    "        for wrong_index in wrong_indices:\n",
    "            wrong_cases.append(\n",
    "                {\n",
    "                    \"src\": src[wrong_index],\n",
    "                    \"tgt\": tgt[wrong_index],\n",
    "                    \"predictions\": predictions[wrong_index],\n",
    "                }\n",
    "            )"
   ]
  },
  {
   "cell_type": "markdown",
   "metadata": {},
   "source": [
    "# Sequence length analysis"
   ]
  },
  {
   "cell_type": "code",
   "execution_count": 26,
   "metadata": {},
   "outputs": [
    {
     "name": "stdout",
     "output_type": "stream",
     "text": [
      "src: <s>CCAA<e>PADPADPADPADPADPADPADPADPADPAD\n",
      "tgt: AACC<e>PADPADPADPADPADPADPADPADPADPADPAD\n",
      "predictions: AACCCPADPADPADPADPADPADPADPADPADPADPAD\n",
      "\n",
      "src: <s>ABAABACAACAAAA<e>\n",
      "tgt: AAAAAAAAAABBCC<e>PAD\n",
      "predictions: AAAAAAAAABBBCC<e>PAD\n",
      "\n"
     ]
    }
   ],
   "source": [
    "for wrong_case in wrong_cases:\n",
    "    src = \"\".join([checkpoint_inverse_vocabulary[token.item()] for token in wrong_case[\"src\"]])\n",
    "    tgt = \"\".join([checkpoint_inverse_vocabulary[token.item()] for token in wrong_case[\"tgt\"]])\n",
    "    predictions = \"\".join([checkpoint_inverse_vocabulary[token.item()] for token in wrong_case[\"predictions\"]])\n",
    "    print(f\"src: {src}\")\n",
    "    print(f\"tgt: {tgt}\")\n",
    "    print(f\"predictions: {predictions}\")\n",
    "    print()"
   ]
  }
 ],
 "metadata": {
  "kernelspec": {
   "display_name": "mlenv",
   "language": "python",
   "name": "python3"
  },
  "language_info": {
   "codemirror_mode": {
    "name": "ipython",
    "version": 3
   },
   "file_extension": ".py",
   "mimetype": "text/x-python",
   "name": "python",
   "nbconvert_exporter": "python",
   "pygments_lexer": "ipython3",
   "version": "3.11.5"
  }
 },
 "nbformat": 4,
 "nbformat_minor": 2
}
